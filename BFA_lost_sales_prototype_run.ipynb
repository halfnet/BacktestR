{
  "nbformat": 4,
  "nbformat_minor": 0,
  "metadata": {
    "colab": {
      "name": "BFA_lost_sales_prototype_run.ipynb",
      "provenance": [],
      "collapsed_sections": [],
      "include_colab_link": true
    },
    "kernelspec": {
      "name": "python3",
      "display_name": "Python 3"
    }
  },
  "cells": [
    {
      "cell_type": "markdown",
      "metadata": {
        "id": "view-in-github",
        "colab_type": "text"
      },
      "source": [
        "<a href=\"https://colab.research.google.com/github/halfnet/BacktestR/blob/master/BFA_lost_sales_prototype_run.ipynb\" target=\"_parent\"><img src=\"https://colab.research.google.com/assets/colab-badge.svg\" alt=\"Open In Colab\"/></a>"
      ]
    },
    {
      "cell_type": "code",
      "metadata": {
        "id": "JeF8O47VPaNq",
        "colab_type": "code",
        "colab": {
          "base_uri": "https://localhost:8080/",
          "height": 34
        },
        "outputId": "2f661294-ba02-445b-e886-403d2abd8477"
      },
      "source": [
        "from google.colab import auth\n",
        "auth.authenticate_user()\n",
        "print('Authenticated')"
      ],
      "execution_count": 1,
      "outputs": [
        {
          "output_type": "stream",
          "text": [
            "Authenticated\n"
          ],
          "name": "stdout"
        }
      ]
    },
    {
      "cell_type": "code",
      "metadata": {
        "id": "wqXLL-ssRBXn",
        "colab_type": "code",
        "colab": {}
      },
      "source": [
        "import pandas_gbq\n",
        "import datetime\n",
        "from google.cloud import bigquery\n",
        "import pandas as pd\n",
        "import numpy as np"
      ],
      "execution_count": 2,
      "outputs": []
    },
    {
      "cell_type": "code",
      "metadata": {
        "id": "_BRhhwaGHDUA",
        "colab_type": "code",
        "colab": {}
      },
      "source": [
        "def prototype_run(proposal_id):\n",
        "\n",
        "  print(\"-----\" + str(proposal_id) + \"-----\")\n",
        "  client = bigquery.Client(project=project_id)  \n",
        "\n",
        "  sql =\"\"\"\\\n",
        "    SELECT \n",
        "      snapshot_id,\n",
        "      DATE(refresh.brstarttime) refresh_date, \n",
        "      order_cadence,\n",
        "    FROM `wf-gcp-us-ae-ops-prod.buyfair_stream.vw_buyfair_supply_proposal` proposal\n",
        "    INNER JOIN `wf-gcp-us-ae-ops-prod.buyfair_bulk.tbl_buyfair_refresh_vertica` refresh\n",
        "      ON proposal.snapshot_id = refresh.brid\n",
        "    WHERE proposal_id = {}\n",
        "  \"\"\"\n",
        "  query=sql.format(proposal_id)\n",
        "  df = client.query(query).to_dataframe()\n",
        "  snapshot_id = df.loc[0, \"snapshot_id\"]\n",
        "  start_date = df.loc[0, \"refresh_date\"]\n",
        "  order_cadence = df.loc[0, \"order_cadence\"]\n",
        "  sql =\"\"\"\\\n",
        "    SELECT\n",
        "      MAX(arrival_date) arrival_date\n",
        "    FROM\n",
        "      `wf-gcp-us-ae-ops-prod.buyfair_stream.vw_buyfair_supply_proposal`\n",
        "    WHERE proposal_id = {}\n",
        "  \"\"\"\n",
        "  query=sql.format(proposal_id)\n",
        "  df = client.query(query).to_dataframe()\n",
        "  end_date = df.loc[0, \"arrival_date\"]\n",
        "  end_date = end_date + datetime.timedelta(int(order_cadence))\n",
        "  ##### Delete Existing Data #####\n",
        "  sql =\"\"\"\\\n",
        "      DELETE FROM `wf-gcp-us-ae-buyfair-prod.analytics_lost_sales.tbl_lost_sales_prototype`\n",
        "      WHERE proposal_id = {}\n",
        "  \"\"\"\n",
        "  query=sql.format(proposal_id)\n",
        "  df = client.query(query).to_dataframe()\n",
        "  ##### Actual Case #####\n",
        "  sql =\"\"\"\\\n",
        "      INSERT `wf-gcp-us-ae-buyfair-prod.analytics_lost_sales.tbl_lost_sales_prototype`\n",
        "        (\n",
        "          analysis_case,\n",
        "          proposal_id,\n",
        "          supplier_id,\n",
        "          manufacturer_part_id,\n",
        "          sprid,\n",
        "          date,\n",
        "          is_oos,\n",
        "          available_qty,\n",
        "          receipt_qty,\n",
        "          demand_qty,\n",
        "          potential_lost_sales,\n",
        "          wholesale_cost_per_unit,\n",
        "          revenue_per_unit,\n",
        "          expected_lost_sales,\n",
        "          expected_lost_sales_by_cost,\n",
        "          expected_lost_sales_by_revenue\n",
        "        )\n",
        "      WITH item_start_end_dates AS\n",
        "      (\n",
        "        SELECT supplier_id, manufacturer_part_id, sprid,\n",
        "          CAST('{}' AS DATE) start_date,\n",
        "          CAST('{}' AS DATE) end_date \n",
        "        FROM `wf-gcp-us-ae-ops-prod.buyfair_stream.vw_buyfair_supply_proposal` \n",
        "        WHERE proposal_id = {}\n",
        "        GROUP BY 1, 2, 3\n",
        "      ),\n",
        "      spo_receipt AS\n",
        "      (\n",
        "        SELECT manufacturer_part_id, receipt_date, SUM(receipt_qty) receipt_qty\n",
        "        FROM `wf-gcp-us-ae-buyfair-prod.analytics_lost_sales.vw_lost_sales_spo_receipt`\n",
        "        GROUP BY 1, 2\n",
        "      )\n",
        "      SELECT \n",
        "        'actual' analysis_case,\n",
        "        {} proposal_id,\n",
        "        dates.supplier_id,\n",
        "        ls.manufacturer_part_id,\n",
        "        dates.sprid,\n",
        "        order_date date,\n",
        "        is_oos,\n",
        "        inv.pickable_qty,\n",
        "        --IFNULL(sr.receipt_qty, 0) receipt_qty,\n",
        "        0 receipt_qty,\n",
        "        order_qty demand_qty,\n",
        "        ls_cg.lost_sales potential_lost_sales,\n",
        "        wholesale_cost_per_unit,\n",
        "        revenue_per_unit,\n",
        "        ls_cg.lost_sales * is_oos expected_lost_sales,\n",
        "        ls_cg.lost_sales * is_oos * wholesale_cost_per_unit expected_lost_sales_by_cost,\n",
        "        ls_cg.lost_sales * is_oos * revenue_per_unit expected_lost_sales_by_revenue\n",
        "      FROM `wf-gcp-us-ae-buyfair-prod.analytics_lost_sales.vw_lost_sales` ls\n",
        "      INNER JOIN item_start_end_dates dates\n",
        "        ON ls.manufacturer_part_id = dates.manufacturer_part_id \n",
        "        AND ls.order_date BETWEEN dates.start_date AND dates.end_date\n",
        "      INNER JOIN `wf-gcp-us-ae-buyfair-prod.analytics_lost_sales.vw_lost_sales_cg_only` ls_cg\n",
        "        ON ls.manufacturer_part_id = ls_cg.manufacturer_part_id \n",
        "        AND ls.order_date = ls_cg.date\n",
        "      LEFT OUTER JOIN `wf-gcp-us-ae-buyfair-prod.analytics_lost_sales.vw_lost_sales_product_inventory_daily` inv\n",
        "        ON ls.order_date = inv.effect_date AND ls.manufacturer_part_id = inv.manufacturer_part_id\n",
        "      LEFT OUTER JOIN spo_receipt sr\n",
        "        ON ls.order_date = sr.receipt_date AND ls.manufacturer_part_id = sr.manufacturer_part_id;\n",
        "  \"\"\"\n",
        "  query=sql.format(start_date, end_date, proposal_id, proposal_id)\n",
        "  df = client.query(query).to_dataframe()\n",
        "  ##### Hypothetical Case #####\n",
        "  # this below is ran after the full time range of impact has been passed\n",
        "  sql =\"\"\"\\\n",
        "      WITH onhand as (\n",
        "        SELECT\n",
        "          supplier_id,\n",
        "          proposal_id,\n",
        "          sprid,\n",
        "          manufacturer_part_id,\n",
        "          MIN(on_hand_qty) AS on_hand,\n",
        "        FROM\n",
        "          `wf-gcp-us-ae-ops-prod.buyfair_stream.vw_buyfair_supply_proposal`\n",
        "        WHERE proposal_id = {}\n",
        "        GROUP BY\n",
        "          1,2,3,4),\n",
        "      proposal0 as (\n",
        "        SELECT\n",
        "          l1.manufacturer_part_id,\n",
        "          l1.arrival_date AS date,\n",
        "          SUM(l1.quantity) AS quantity,\n",
        "          AVG(l2.quantity) AS quantity2,\n",
        "        FROM\n",
        "          `wf-gcp-us-ae-ops-prod.buyfair_stream.vw_buyfair_supply_proposal` l1\n",
        "        LEFT OUTER JOIN `wf-gcp-us-ae-ops-prod.buyfair_stream.vw_buyfair_supply_proposal_l2` l2\n",
        "          ON l1.proposal_id = l2.proposal_id AND l1.manufacturer_part_id = l2.manufacturer_part_id\n",
        "        WHERE l1.proposal_id = {}\n",
        "        GROUP BY\n",
        "          1,2\n",
        "      ),\n",
        "      proposal as (\n",
        "        SELECT\n",
        "          manufacturer_part_id,\n",
        "          date,\n",
        "          quantity,\n",
        "          quantity2,\n",
        "          SUM(quantity) OVER (\n",
        "            PARTITION BY manufacturer_part_id\n",
        "            ROWS BETWEEN UNBOUNDED PRECEDING AND UNBOUNDED FOLLOWING\n",
        "        ) AS total_qty,\n",
        "        FROM proposal0\n",
        "      ),\n",
        "      proposal_l1 as (\n",
        "        SELECT\n",
        "          manufacturer_part_id,\n",
        "          SUM(quantity) AS quantity\n",
        "        FROM\n",
        "          `wf-gcp-us-ae-ops-prod.buyfair_stream.vw_buyfair_supply_proposal`\n",
        "        WHERE proposal_id = {}\n",
        "        GROUP BY\n",
        "          1\n",
        "      ),\n",
        "      proposal_l2 as (\n",
        "        SELECT\n",
        "          manufacturer_part_id,\n",
        "          SUM(quantity) AS quantity\n",
        "        FROM\n",
        "          `wf-gcp-us-ae-ops-prod.buyfair_stream.vw_buyfair_supply_proposal_l2`\n",
        "        WHERE proposal_id = {}\n",
        "        GROUP BY\n",
        "          1\n",
        "      ),\n",
        "      proposal_l4 as (\n",
        "        SELECT\n",
        "          manufacturer_part_id,\n",
        "          SUM(quantity) AS quantity\n",
        "        FROM\n",
        "          `wf-gcp-us-ae-ops-prod.buyfair_stream.vw_buyfair_supply_proposal_l4`\n",
        "        WHERE proposal_id = {}\n",
        "        GROUP BY\n",
        "          1\n",
        "      ),\n",
        "      proposal_receipt AS (\n",
        "        SELECT manufacturer_part_id, \n",
        "        DATE_ADD(receipt_date, INTERVAL 2 DAY) AS date, \n",
        "        SUM(receipt_qty) receipt_qty\n",
        "        FROM `wf-gcp-us-ae-buyfair-prod.analytics_lost_sales.vw_lost_sales_spo_receipt`\n",
        "        WHERE spo IN \n",
        "          (SELECT DISTINCT spo FROM\n",
        "            `wf-gcp-us-ae-ops-prod.buyfair_stream.vw_buyfair_supply_proposal_spo`\n",
        "            WHERE proposal_id = {})\n",
        "        GROUP BY 1, 2\n",
        "      ),\n",
        "      other_receipt AS (\n",
        "        SELECT manufacturer_part_id, \n",
        "        DATE_ADD(receipt_date, INTERVAL 2 DAY) AS date, \n",
        "        SUM(receipt_qty) receipt_qty\n",
        "        FROM `wf-gcp-us-ae-buyfair-prod.analytics_lost_sales.vw_lost_sales_spo_receipt`\n",
        "        WHERE spo NOT IN \n",
        "          (SELECT DISTINCT spo FROM\n",
        "            `wf-gcp-us-ae-ops-prod.buyfair_stream.vw_buyfair_supply_proposal_spo`\n",
        "            WHERE proposal_id = {})\n",
        "        GROUP BY 1, 2\n",
        "      ),\n",
        "      date_range as (\n",
        "        SELECT * FROM UNNEST(GENERATE_DATE_ARRAY('{}', '{}', INTERVAL 1 DAY)) AS date\n",
        "      )\n",
        "      SELECT\n",
        "        onhand.proposal_id,\n",
        "        onhand.supplier_id,\n",
        "        onhand.manufacturer_part_id,\n",
        "        onhand.sprid,\n",
        "        date_range.date,\n",
        "        CASE WHEN date_range.date = '{}' THEN on_hand ELSE 0 END as start_qty,\n",
        "        CASE WHEN date_range.date = '{}' THEN on_hand ELSE 0 END as start_qty2,\n",
        "        IFNULL(other_receipt.receipt_qty, 0) AS other_receipt_qty,\n",
        "        IFNULL(proposal_receipt.receipt_qty, 0) AS proposal_receipt_qty,\n",
        "        IFNULL(proposal.quantity, 0) AS proposal_qty,\n",
        "        IFNULL(1.0 * proposal.quantity2 * proposal.quantity / proposal.total_qty, 0) AS proposal_qty2,\n",
        "        IFNULL(proposal_l1.quantity, 0) AS proposal_l1_qty,\n",
        "        IFNULL(proposal_l2.quantity, 0) AS proposal_l2_qty,\n",
        "        IFNULL(proposal_l4.quantity, 0) AS proposal_l4_qty,\n",
        "        SUM(IFNULL(proposal_receipt.receipt_qty, 0))\n",
        "        OVER (\n",
        "          PARTITION BY onhand.manufacturer_part_id\n",
        "          ROWS BETWEEN UNBOUNDED PRECEDING AND UNBOUNDED FOLLOWING\n",
        "        ) AS total_proposal_receipts,\n",
        "        IFNULL(ls.order_qty, 0) order_qty,\n",
        "        IFNULL(ls.is_oos, 0) actual_is_oos,\n",
        "        IFNULL(ls.wholesale_cost_per_unit, 0) wholesale_cost_per_unit,\n",
        "        IFNULL(ls.revenue_per_unit, 0) revenue_per_unit,\n",
        "        IFNULL(ls_cg.lost_sales, 0) lost_sales,\n",
        "      FROM\n",
        "        onhand\n",
        "      CROSS JOIN\n",
        "        date_range\n",
        "      LEFT JOIN \n",
        "        proposal \n",
        "      ON\n",
        "        proposal.manufacturer_part_id = onhand.manufacturer_part_id \n",
        "        AND proposal.date = date_range.date\n",
        "      LEFT JOIN \n",
        "        proposal_l1\n",
        "      ON\n",
        "        proposal_l1.manufacturer_part_id = onhand.manufacturer_part_id\n",
        "      LEFT JOIN \n",
        "        proposal_l2\n",
        "      ON\n",
        "        proposal_l2.manufacturer_part_id = onhand.manufacturer_part_id\n",
        "      LEFT JOIN \n",
        "        proposal_l4\n",
        "      ON\n",
        "        proposal_l4.manufacturer_part_id = onhand.manufacturer_part_id \n",
        "      LEFT JOIN \n",
        "        proposal_receipt \n",
        "      ON\n",
        "        proposal_receipt.manufacturer_part_id = onhand.manufacturer_part_id \n",
        "        AND proposal_receipt.date = date_range.date\n",
        "      LEFT JOIN \n",
        "        other_receipt \n",
        "      ON\n",
        "        other_receipt.manufacturer_part_id = onhand.manufacturer_part_id \n",
        "        AND other_receipt.date = date_range.date\n",
        "      LEFT JOIN\n",
        "        `wf-gcp-us-ae-buyfair-prod.analytics_lost_sales.vw_lost_sales` AS ls\n",
        "      ON\n",
        "        onhand.manufacturer_part_id = ls.manufacturer_part_id\n",
        "        AND date_range.date = ls.order_date\n",
        "      LEFT JOIN \n",
        "        `wf-gcp-us-ae-buyfair-prod.analytics_lost_sales.vw_lost_sales_cg_only` ls_cg\n",
        "      ON \n",
        "        date_range.date = ls_cg.date\n",
        "        AND ls_cg.manufacturer_part_id = onhand.manufacturer_part_id\n",
        "      ORDER BY\n",
        "        onhand.manufacturer_part_id ASC,\n",
        "        date_range.date ASC;\n",
        "  \"\"\"\n",
        "  query=sql.format(proposal_id, proposal_id, proposal_id, proposal_id,\n",
        "                  proposal_id, proposal_id, proposal_id,   \n",
        "                  start_date, end_date, start_date, start_date)\n",
        "  df = client.query(query).to_dataframe()\n",
        "  df[\"hypothetical_qty\"] = np.where((df.proposal_l4_qty == 0) | (df.total_proposal_receipts == 0), df.proposal_qty, \n",
        "                                    1.0 * df.proposal_l1_qty * df.proposal_receipt_qty / df.total_proposal_receipts)\n",
        "  df[\"hypothetical_qty2\"] = np.where((df.proposal_l4_qty == 0) | (df.total_proposal_receipts == 0), df.proposal_qty2, \n",
        "                                    1.0 * df.proposal_l2_qty * df.proposal_receipt_qty / df.total_proposal_receipts)\n",
        "  df[\"start_qty\"] = df[\"start_qty\"].astype(float)\n",
        "  df[\"start_qty2\"] = df[\"start_qty2\"].astype(float)\n",
        "  df[\"other_receipt_qty\"] = df[\"other_receipt_qty\"].astype(float)\n",
        "  df[\"order_qty\"] = df[\"order_qty\"].astype(float)\n",
        "  df[\"wholesale_cost_per_unit\"] = df[\"wholesale_cost_per_unit\"].astype(float)\n",
        "  df[\"revenue_per_unit\"] = df[\"revenue_per_unit\"].astype(float)\n",
        "  df[\"date\"] = pd.to_datetime(df[\"date\"])\n",
        "  df.drop(columns=[\"proposal_receipt_qty\", \"proposal_qty\", \"proposal_qty2\", \"proposal_l1_qty\", \"proposal_l2_qty\",\n",
        "                  \"proposal_l4_qty\", \"total_proposal_receipts\"], inplace=True)\n",
        "  print (df.shape)\n",
        "  df.dtypes\n",
        "  manufacturer_part_id = -1\n",
        "  for index, row in df.iterrows():\n",
        "    if row[\"manufacturer_part_id\"] == manufacturer_part_id:\n",
        "      df.at[index, \"start_qty\"] = next_start_qty\n",
        "      df.at[index, \"start_qty2\"] = next_start_qty2\n",
        "    else:\n",
        "      manufacturer_part_id = row[\"manufacturer_part_id\"]\n",
        "      next_start_qty = row[\"start_qty\"]\n",
        "      next_start_qty2 = row[\"start_qty2\"]\n",
        "\n",
        "    if (row[\"actual_is_oos\"] == 1) & (row[\"order_qty\"] == 0):\n",
        "      # oos and no order at all, use lost_sales to bleed down\n",
        "      next_start_qty = next_start_qty + row[\"other_receipt_qty\"] + row[\"hypothetical_qty\"] - row[\"lost_sales\"]\n",
        "      next_start_qty2 = next_start_qty2 + row[\"other_receipt_qty\"] + row[\"hypothetical_qty2\"] - row[\"lost_sales\"]\n",
        "    else:\n",
        "      next_start_qty = next_start_qty + row[\"other_receipt_qty\"] + row[\"hypothetical_qty\"] - row[\"order_qty\"]\n",
        "      next_start_qty2 = next_start_qty2 + row[\"other_receipt_qty\"] + row[\"hypothetical_qty2\"] - row[\"order_qty\"]\n",
        "\n",
        "    # available qty can't be negative\n",
        "    next_start_qty = 0 if next_start_qty < 0 else next_start_qty\n",
        "    next_start_qty2 = 0 if next_start_qty2 < 0 else next_start_qty2\n",
        "\n",
        "  df2 = df.drop(columns=[\"start_qty\", \"hypothetical_qty\"])\n",
        "  df2.rename(columns={\"start_qty2\": \"start_qty\", \"hypothetical_qty2\": \"hypothetical_qty\"}, inplace=True)\n",
        "  df2[\"analysis_case\"] = \"hypothetical2\"\n",
        "  df.drop(columns=[\"start_qty2\", \"hypothetical_qty2\"], inplace=True)\n",
        "  df[\"analysis_case\"] = \"hypothetical1\"\n",
        "  df = pd.concat([df, df2])\n",
        "\n",
        "  df[\"is_oos\"] = np.where((df.start_qty + df.other_receipt_qty + df.hypothetical_qty - df.order_qty) <= 0, 1, 0)\n",
        "\n",
        "  now = datetime.datetime.now()\n",
        "  now = now.strftime(\"%Y%m%d%H%M%S\")\n",
        "  tmp_table_name = \"tmp_lost_sales_bleeddown_\" + now\n",
        "\n",
        "  df.to_gbq(destination_table=dataset+\".\"+tmp_table_name, project_id=project_id, if_exists=\"replace\")\n",
        "  fq_tmp_table_name = \"`\" + project_id + \".\" + dataset + \".\" + tmp_table_name + \"`\"\n",
        "\n",
        "  sql =\"\"\"\\\n",
        "      INSERT INTO `wf-gcp-us-ae-buyfair-prod.analytics_lost_sales.tbl_lost_sales_prototype`\n",
        "      (\n",
        "          analysis_case,\n",
        "          proposal_id,\n",
        "          supplier_id,\n",
        "          manufacturer_part_id,\n",
        "          sprid,\n",
        "          date,\n",
        "          is_oos,\n",
        "          available_qty,\n",
        "          receipt_qty,\n",
        "          demand_qty,\n",
        "          potential_lost_sales,\n",
        "          wholesale_cost_per_unit,\n",
        "          revenue_per_unit,\n",
        "          expected_lost_sales,\n",
        "          expected_lost_sales_by_cost,\n",
        "          expected_lost_sales_by_revenue\n",
        "      ) \n",
        "      SELECT\n",
        "          analysis_case,\n",
        "          bd.proposal_id,\n",
        "          bd.supplier_id,\n",
        "          bd.manufacturer_part_id,\n",
        "          bd.sprid,\n",
        "          EXTRACT(DATE FROM bd.date),\n",
        "          bd.is_oos,\n",
        "          bd.start_qty,\n",
        "          bd.hypothetical_qty + bd.other_receipt_qty,\n",
        "          CASE \n",
        "            WHEN bd.actual_is_oos = 1 AND bd.order_qty = 0 THEN bd.lost_sales \n",
        "            ELSE bd.order_qty END,\n",
        "          bd.lost_sales,\n",
        "          bd.wholesale_cost_per_unit,\n",
        "          bd.revenue_per_unit,\n",
        "          bd.is_oos * bd.lost_sales,\n",
        "          bd.is_oos * bd.lost_sales * bd.wholesale_cost_per_unit,\n",
        "          bd.is_oos * bd.lost_sales * bd.revenue_per_unit\n",
        "      FROM \n",
        "          {} bd;\n",
        "  \"\"\"\n",
        "  query=sql.format(fq_tmp_table_name)\n",
        "  df = client.query(query).to_dataframe()\n",
        "\n",
        "  sql =\"\"\"\\\n",
        "    DROP TABLE IF EXISTS {}.{};\n",
        "  \"\"\"\n",
        "  query=sql.format(dataset, tmp_table_name)\n",
        "  df = client.query(query).to_dataframe()\n",
        "\n",
        "  ###### Model Case #####\n",
        "  sql =\"\"\"\\\n",
        "      WITH demand_forecast AS (\n",
        "        SELECT\n",
        "          manufacturer_part_id,\n",
        "          EXTRACT(MONTH FROM start_date) AS df_month,\n",
        "          EXTRACT(YEAR FROM end_date) AS df_year,\n",
        "          SUM(forecast_qty_daily) AS df_qty\n",
        "        FROM\n",
        "          `wf-gcp-us-ae-buyfair-prod.analytics_lost_sales.vw_lost_sales_demand_forecast`\n",
        "        WHERE\n",
        "          snapshot_id = {}\n",
        "        GROUP BY\n",
        "          1,2,3),\n",
        "      onhand as (\n",
        "        SELECT\n",
        "          supplier_id,\n",
        "          proposal_id,\n",
        "          sprid,\n",
        "          manufacturer_part_id,\n",
        "          MIN(on_hand_qty) AS on_hand,\n",
        "        FROM\n",
        "          `wf-gcp-us-ae-ops-prod.buyfair_stream.vw_buyfair_supply_proposal`\n",
        "        WHERE proposal_id = {}\n",
        "        GROUP BY\n",
        "          1,2,3,4),\n",
        "      proposal as (\n",
        "        SELECT\n",
        "          manufacturer_part_id,\n",
        "          arrival_date AS date,\n",
        "          SUM(quantity) AS quantity\n",
        "        FROM\n",
        "          `wf-gcp-us-ae-ops-prod.buyfair_stream.vw_buyfair_supply_proposal`\n",
        "        WHERE proposal_id = {}\n",
        "        GROUP BY\n",
        "          1,2\n",
        "      ),\n",
        "      inbound as (\n",
        "        SELECT\n",
        "          manufacturer_part_id,\n",
        "          estimated_pickable_date,\n",
        "          SUM(quantity) inbound_qty,\n",
        "        FROM\n",
        "          `wf-gcp-us-ae-buyfair-prod.analytics_lost_sales.vw_lost_sales_inbound_shipment`\n",
        "        WHERE snapshot_id = {}\n",
        "        GROUP BY\n",
        "          1,2\n",
        "      ),\n",
        "      date_range as (\n",
        "        SELECT * FROM UNNEST(GENERATE_DATE_ARRAY('{}', '{}', INTERVAL 1 DAY)) AS date\n",
        "      )\n",
        "      SELECT\n",
        "        onhand.proposal_id,\n",
        "        onhand.supplier_id,\n",
        "        onhand.manufacturer_part_id,\n",
        "        onhand.sprid,\n",
        "        date_range.date,\n",
        "        CASE WHEN date_range.date = '{}' THEN on_hand ELSE 0 END AS start_qty,\n",
        "        IFNULL(inbound.inbound_qty, 0) AS inbound_qty,\n",
        "        IFNULL(quantity, 0) AS proposal_qty,\n",
        "        df.df_qty AS forecast_qty,\n",
        "      FROM\n",
        "        onhand\n",
        "      CROSS JOIN\n",
        "        date_range\n",
        "      LEFT JOIN\n",
        "        demand_forecast AS df\n",
        "      ON\n",
        "        onhand.manufacturer_part_id = df.manufacturer_part_id\n",
        "        AND EXTRACT(MONTH FROM date_range.date) = df.df_month\n",
        "        AND EXTRACT(YEAR FROM date_range.date) = df.df_year\n",
        "      LEFT JOIN \n",
        "        proposal \n",
        "      ON\n",
        "        proposal.manufacturer_part_id = onhand.manufacturer_part_id \n",
        "        AND proposal.date = date_range.date\n",
        "      LEFT JOIN \n",
        "        inbound \n",
        "      ON\n",
        "        inbound.manufacturer_part_id = onhand.manufacturer_part_id \n",
        "        AND inbound.estimated_pickable_date = date_range.date\n",
        "      ORDER BY\n",
        "        onhand.manufacturer_part_id ASC,\n",
        "        date_range.date ASC;\n",
        "  \"\"\"\n",
        "  query=sql.format(snapshot_id, proposal_id, proposal_id, snapshot_id, start_date, end_date, start_date)\n",
        "  df = client.query(query).to_dataframe()\n",
        "\n",
        "  df[\"start_qty\"] = df[\"start_qty\"].astype(float)\n",
        "  df[\"inbound_qty\"] = df[\"inbound_qty\"].astype(float)\n",
        "  df[\"proposal_qty\"] = df[\"proposal_qty\"].astype(float)\n",
        "  df[\"forecast_qty\"] = df[\"forecast_qty\"].astype(float)\n",
        "  df[\"date\"] = pd.to_datetime(df[\"date\"])\n",
        "\n",
        "  print (df.shape)\n",
        "  df.dtypes\n",
        "\n",
        "  manufacturer_part_id = -1\n",
        "  for index, row in df.iterrows():\n",
        "    if row[\"manufacturer_part_id\"] == manufacturer_part_id:\n",
        "      df.at[index, \"start_qty\"] = next_start_qty\n",
        "    else:\n",
        "      manufacturer_part_id = row[\"manufacturer_part_id\"]\n",
        "      next_start_qty = row[\"start_qty\"]\n",
        "    next_start_qty = next_start_qty + row[\"inbound_qty\"] + row[\"proposal_qty\"] - row[\"forecast_qty\"]\n",
        "    next_start_qty = 0 if next_start_qty < 0 else next_start_qty\n",
        "\n",
        "  df[\"is_oos\"] = np.where((df.start_qty + df.inbound_qty + df.proposal_qty - df.forecast_qty) <= 0, 1, 0)\n",
        "  now = datetime.datetime.now()\n",
        "  now = now.strftime(\"%Y%m%d%H%M%S\")\n",
        "  tmp_table_name = \"tmp_lost_sales_bleeddown_\" + now\n",
        "  df.to_gbq(destination_table=dataset+\".\"+tmp_table_name, project_id=project_id, if_exists=\"replace\")\n",
        "  fq_tmp_table_name = \"`\" + project_id + \".\" + dataset + \".\" + tmp_table_name + \"`\"\n",
        "\n",
        "  sql =\"\"\"\\\n",
        "      INSERT INTO `wf-gcp-us-ae-buyfair-prod.analytics_lost_sales.tbl_lost_sales_prototype`\n",
        "      (\n",
        "          analysis_case,\n",
        "          proposal_id,\n",
        "          supplier_id,\n",
        "          manufacturer_part_id,\n",
        "          sprid,\n",
        "          date,\n",
        "          is_oos,\n",
        "          available_qty,\n",
        "          receipt_qty,\n",
        "          demand_qty,\n",
        "          potential_lost_sales,\n",
        "          wholesale_cost_per_unit,\n",
        "          revenue_per_unit,\n",
        "          expected_lost_sales,\n",
        "          expected_lost_sales_by_cost,\n",
        "          expected_lost_sales_by_revenue\n",
        "      ) \n",
        "      SELECT\n",
        "          'model',\n",
        "          bd.proposal_id,\n",
        "          bd.supplier_id,\n",
        "          bd.manufacturer_part_id,\n",
        "          bd.sprid,\n",
        "          EXTRACT(DATE FROM bd.date),\n",
        "          bd.is_oos,\n",
        "          bd.start_qty,\n",
        "          bd.proposal_qty + bd.inbound_qty,\n",
        "          bd.forecast_qty,\n",
        "          ls_cg.lost_sales,\n",
        "          ls.wholesale_cost_per_unit,\n",
        "          ls.revenue_per_unit,\n",
        "          bd.is_oos * ls_cg.lost_sales,\n",
        "          bd.is_oos * ls_cg.lost_sales * ls.wholesale_cost_per_unit,\n",
        "          bd.is_oos * ls_cg.lost_sales * ls.revenue_per_unit\n",
        "      FROM \n",
        "          {} bd\n",
        "          LEFT JOIN `wf-gcp-us-ae-buyfair-prod.analytics_lost_sales.vw_lost_sales_cg_only` ls_cg\n",
        "            ON \n",
        "                ls_cg.date = EXTRACT(DATE FROM bd.date)\n",
        "                AND ls_cg.manufacturer_part_id = bd.manufacturer_part_id\n",
        "          LEFT JOIN \n",
        "            `wf-gcp-us-ae-buyfair-prod.analytics_lost_sales.vw_lost_sales` AS ls\n",
        "          ON \n",
        "            ls.order_date = EXTRACT(DATE FROM bd.date)\n",
        "            AND ls.manufacturer_part_id = bd.manufacturer_part_id          \n",
        "      ;\n",
        "  \"\"\"\n",
        "  query=sql.format(fq_tmp_table_name)\n",
        "  df = client.query(query).to_dataframe()\n",
        "\n",
        "  sql =\"\"\"\\\n",
        "    DROP TABLE IF EXISTS {}.{};\n",
        "  \"\"\"\n",
        "  query=sql.format(dataset, tmp_table_name)\n",
        "  df = client.query(query).to_dataframe()"
      ],
      "execution_count": 3,
      "outputs": []
    },
    {
      "cell_type": "code",
      "metadata": {
        "id": "P8BJYEmbLl0k",
        "colab_type": "code",
        "colab": {}
      },
      "source": [
        "begin_time = datetime.datetime.now()"
      ],
      "execution_count": 4,
      "outputs": []
    },
    {
      "cell_type": "code",
      "metadata": {
        "id": "a7xVwMTypN4K",
        "colab_type": "code",
        "colab": {}
      },
      "source": [
        "project_id = \"wf-gcp-us-ae-buyfair-prod\"\n",
        "dataset = \"analytics_lost_sales\""
      ],
      "execution_count": 5,
      "outputs": []
    },
    {
      "cell_type": "code",
      "metadata": {
        "id": "q7FO_Gf7TjGT",
        "colab_type": "code",
        "colab": {}
      },
      "source": [
        "client = bigquery.Client(project=project_id)  \n",
        "sql =\"\"\"\\\n",
        "    SELECT *\n",
        "    FROM `wf-gcp-us-ae-ops-prod.buyfair_stream.vw_buyfair_supply_proposal_used`\n",
        "\"\"\"\n",
        "query=sql.format()\n",
        "df = client.query(query).to_dataframe()\n",
        "proposals = df.proposal_id.tolist()"
      ],
      "execution_count": 6,
      "outputs": []
    },
    {
      "cell_type": "code",
      "metadata": {
        "id": "ZXZheZZSPcDE",
        "colab_type": "code",
        "colab": {}
      },
      "source": [
        "# change the proposal id and run the script by Ctrl+F10\n",
        "# proposals = [5862734, 5894452]"
      ],
      "execution_count": 7,
      "outputs": []
    },
    {
      "cell_type": "code",
      "metadata": {
        "id": "6EDF34BbJB2f",
        "colab_type": "code",
        "colab": {
          "base_uri": "https://localhost:8080/",
          "height": 1000
        },
        "outputId": "63880a9b-8227-4e88-9e9b-4bf7aa4357ea"
      },
      "source": [
        "for proposal_id in proposals:\n",
        "  prototype_run(proposal_id)"
      ],
      "execution_count": null,
      "outputs": [
        {
          "output_type": "stream",
          "text": [
            "-----5830531-----\n",
            "(7905, 15)\n"
          ],
          "name": "stdout"
        },
        {
          "output_type": "stream",
          "text": [
            "1it [00:06,  6.61s/it]\n"
          ],
          "name": "stderr"
        },
        {
          "output_type": "stream",
          "text": [
            "(7905, 9)\n"
          ],
          "name": "stdout"
        },
        {
          "output_type": "stream",
          "text": [
            "1it [00:12, 13.00s/it]\n"
          ],
          "name": "stderr"
        },
        {
          "output_type": "stream",
          "text": [
            "-----5907224-----\n",
            "(276, 15)\n"
          ],
          "name": "stdout"
        },
        {
          "output_type": "stream",
          "text": [
            "1it [00:07,  7.86s/it]\n"
          ],
          "name": "stderr"
        },
        {
          "output_type": "stream",
          "text": [
            "(276, 9)\n"
          ],
          "name": "stdout"
        },
        {
          "output_type": "stream",
          "text": [
            "1it [00:06,  6.37s/it]\n"
          ],
          "name": "stderr"
        },
        {
          "output_type": "stream",
          "text": [
            "-----5956819-----\n",
            "(2772, 15)\n"
          ],
          "name": "stdout"
        },
        {
          "output_type": "stream",
          "text": [
            "1it [00:04,  4.41s/it]\n"
          ],
          "name": "stderr"
        },
        {
          "output_type": "stream",
          "text": [
            "(2772, 9)\n"
          ],
          "name": "stdout"
        },
        {
          "output_type": "stream",
          "text": [
            "1it [00:06,  6.54s/it]\n"
          ],
          "name": "stderr"
        },
        {
          "output_type": "stream",
          "text": [
            "-----5891974-----\n",
            "(8536, 15)\n"
          ],
          "name": "stdout"
        },
        {
          "output_type": "stream",
          "text": [
            "1it [00:08,  8.01s/it]\n"
          ],
          "name": "stderr"
        },
        {
          "output_type": "stream",
          "text": [
            "(8536, 9)\n"
          ],
          "name": "stdout"
        },
        {
          "output_type": "stream",
          "text": [
            "1it [00:13, 13.08s/it]\n"
          ],
          "name": "stderr"
        },
        {
          "output_type": "stream",
          "text": [
            "-----5799107-----\n",
            "(1472, 15)\n"
          ],
          "name": "stdout"
        },
        {
          "output_type": "stream",
          "text": [
            "1it [00:04,  4.27s/it]\n"
          ],
          "name": "stderr"
        },
        {
          "output_type": "stream",
          "text": [
            "(1472, 9)\n"
          ],
          "name": "stdout"
        },
        {
          "output_type": "stream",
          "text": [
            "1it [00:08,  8.44s/it]\n"
          ],
          "name": "stderr"
        },
        {
          "output_type": "stream",
          "text": [
            "-----5862734-----\n",
            "(1463, 15)\n"
          ],
          "name": "stdout"
        },
        {
          "output_type": "stream",
          "text": [
            "1it [00:48, 48.48s/it]\n"
          ],
          "name": "stderr"
        },
        {
          "output_type": "stream",
          "text": [
            "(1463, 9)\n"
          ],
          "name": "stdout"
        },
        {
          "output_type": "stream",
          "text": [
            "1it [00:04,  4.89s/it]\n"
          ],
          "name": "stderr"
        },
        {
          "output_type": "stream",
          "text": [
            "-----5748095-----\n",
            "(14847, 15)\n"
          ],
          "name": "stdout"
        },
        {
          "output_type": "stream",
          "text": [
            "1it [00:13, 13.24s/it]\n"
          ],
          "name": "stderr"
        },
        {
          "output_type": "stream",
          "text": [
            "(14847, 9)\n"
          ],
          "name": "stdout"
        },
        {
          "output_type": "stream",
          "text": [
            "1it [00:07,  7.15s/it]\n"
          ],
          "name": "stderr"
        },
        {
          "output_type": "stream",
          "text": [
            "-----5756686-----\n",
            "(6954, 15)\n"
          ],
          "name": "stdout"
        },
        {
          "output_type": "stream",
          "text": [
            "1it [00:06,  6.18s/it]\n"
          ],
          "name": "stderr"
        },
        {
          "output_type": "stream",
          "text": [
            "(6954, 9)\n"
          ],
          "name": "stdout"
        },
        {
          "output_type": "stream",
          "text": [
            "1it [00:05,  5.29s/it]\n"
          ],
          "name": "stderr"
        },
        {
          "output_type": "stream",
          "text": [
            "-----5850428-----\n",
            "(3700, 15)\n"
          ],
          "name": "stdout"
        },
        {
          "output_type": "stream",
          "text": [
            "1it [00:04,  4.96s/it]\n"
          ],
          "name": "stderr"
        },
        {
          "output_type": "stream",
          "text": [
            "(3700, 9)\n"
          ],
          "name": "stdout"
        },
        {
          "output_type": "stream",
          "text": [
            "1it [00:04,  4.65s/it]\n"
          ],
          "name": "stderr"
        },
        {
          "output_type": "stream",
          "text": [
            "-----5852230-----\n",
            "(2385, 15)\n"
          ],
          "name": "stdout"
        },
        {
          "output_type": "stream",
          "text": [
            "1it [00:06,  6.39s/it]\n"
          ],
          "name": "stderr"
        },
        {
          "output_type": "stream",
          "text": [
            "(2385, 9)\n"
          ],
          "name": "stdout"
        },
        {
          "output_type": "stream",
          "text": [
            "1it [00:04,  4.06s/it]\n"
          ],
          "name": "stderr"
        },
        {
          "output_type": "stream",
          "text": [
            "-----5747904-----\n",
            "(4320, 15)\n"
          ],
          "name": "stdout"
        },
        {
          "output_type": "stream",
          "text": [
            "1it [00:04,  4.76s/it]\n"
          ],
          "name": "stderr"
        },
        {
          "output_type": "stream",
          "text": [
            "(4320, 9)\n"
          ],
          "name": "stdout"
        },
        {
          "output_type": "stream",
          "text": [
            "1it [00:03,  3.51s/it]\n"
          ],
          "name": "stderr"
        },
        {
          "output_type": "stream",
          "text": [
            "-----5872462-----\n",
            "(14040, 15)\n"
          ],
          "name": "stdout"
        },
        {
          "output_type": "stream",
          "text": [
            "1it [00:08,  8.93s/it]\n"
          ],
          "name": "stderr"
        },
        {
          "output_type": "stream",
          "text": [
            "(14040, 9)\n"
          ],
          "name": "stdout"
        },
        {
          "output_type": "stream",
          "text": [
            "1it [00:08,  8.38s/it]\n"
          ],
          "name": "stderr"
        },
        {
          "output_type": "stream",
          "text": [
            "-----5801358-----\n",
            "(12312, 15)\n"
          ],
          "name": "stdout"
        },
        {
          "output_type": "stream",
          "text": [
            "1it [00:13, 13.51s/it]\n"
          ],
          "name": "stderr"
        },
        {
          "output_type": "stream",
          "text": [
            "(12312, 9)\n"
          ],
          "name": "stdout"
        },
        {
          "output_type": "stream",
          "text": [
            "1it [00:07,  7.18s/it]\n"
          ],
          "name": "stderr"
        },
        {
          "output_type": "stream",
          "text": [
            "-----5876054-----\n",
            "(3182, 15)\n"
          ],
          "name": "stdout"
        },
        {
          "output_type": "stream",
          "text": [
            "1it [00:04,  4.54s/it]\n"
          ],
          "name": "stderr"
        },
        {
          "output_type": "stream",
          "text": [
            "(3182, 9)\n"
          ],
          "name": "stdout"
        },
        {
          "output_type": "stream",
          "text": [
            "1it [00:08,  8.07s/it]\n"
          ],
          "name": "stderr"
        },
        {
          "output_type": "stream",
          "text": [
            "-----5872602-----\n",
            "(10296, 15)\n"
          ],
          "name": "stdout"
        },
        {
          "output_type": "stream",
          "text": [
            "1it [00:05,  5.09s/it]\n"
          ],
          "name": "stderr"
        },
        {
          "output_type": "stream",
          "text": [
            "(10296, 9)\n"
          ],
          "name": "stdout"
        },
        {
          "output_type": "stream",
          "text": [
            "1it [00:03,  3.89s/it]\n"
          ],
          "name": "stderr"
        },
        {
          "output_type": "stream",
          "text": [
            "-----5894452-----\n",
            "(8502, 15)\n"
          ],
          "name": "stdout"
        },
        {
          "output_type": "stream",
          "text": [
            "1it [00:05,  5.50s/it]\n"
          ],
          "name": "stderr"
        },
        {
          "output_type": "stream",
          "text": [
            "(8502, 9)\n"
          ],
          "name": "stdout"
        },
        {
          "output_type": "stream",
          "text": [
            "1it [00:05,  5.07s/it]\n"
          ],
          "name": "stderr"
        },
        {
          "output_type": "stream",
          "text": [
            "-----5907490-----\n",
            "(6732, 15)\n"
          ],
          "name": "stdout"
        },
        {
          "output_type": "stream",
          "text": [
            "1it [00:00,  4.66it/s]"
          ],
          "name": "stderr"
        }
      ]
    },
    {
      "cell_type": "code",
      "metadata": {
        "id": "tZsute5FLaNE",
        "colab_type": "code",
        "colab": {}
      },
      "source": [
        "print(datetime.datetime.now() - begin_time)"
      ],
      "execution_count": null,
      "outputs": []
    }
  ]
}